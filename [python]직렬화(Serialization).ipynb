{
  "nbformat": 4,
  "nbformat_minor": 0,
  "metadata": {
    "colab": {
      "name": "[python]직렬화(Serialization).ipynb",
      "provenance": []
    },
    "kernelspec": {
      "name": "python3",
      "display_name": "Python 3"
    },
    "language_info": {
      "name": "python"
    }
  },
  "cells": [
    {
      "cell_type": "code",
      "execution_count": 1,
      "metadata": {
        "colab": {
          "base_uri": "https://localhost:8080/"
        },
        "id": "QUe2Lhr1z3mC",
        "outputId": "c8ced5d3-1610-44da-a7c0-c00531d6e9a4"
      },
      "outputs": [
        {
          "output_type": "stream",
          "name": "stdout",
          "text": [
            "10 x 20\n"
          ]
        }
      ],
      "source": [
        "import pickle\n",
        " \n",
        "class Rectangle:\n",
        "    def __init__(self, width, height):\n",
        "        self.width = width\n",
        "        self.height = height\n",
        "        self.area = width * height\n",
        " \n",
        " \n",
        "rect = Rectangle(10, 20)\n",
        " \n",
        "# 사각형 rect 객체를 직렬화 (Serialization)\n",
        "with open('rect.data', 'wb') as f:\n",
        "    pickle.dump(rect, f)\n",
        "\n",
        " \n",
        "# 역직렬화 (Deserialization)\n",
        "with open('rect.data', 'rb') as f:\n",
        "    r = pickle.load(f)\n",
        " \n",
        "print(\"%d x %d\" % (r.width, r.height))"
      ]
    },
    {
      "cell_type": "markdown",
      "source": [
        "- 직렬화된 파일 예시\n",
        "![image.png](data:image/png;base64,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)"
      ],
      "metadata": {
        "id": "YQLihN0u2pbr"
      }
    },
    {
      "cell_type": "code",
      "source": [
        ""
      ],
      "metadata": {
        "id": "TwERPN5zz59H"
      },
      "execution_count": null,
      "outputs": []
    }
  ]
}