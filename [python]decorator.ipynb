{
  "nbformat": 4,
  "nbformat_minor": 0,
  "metadata": {
    "colab": {
      "name": "[python]decorator.ipynb",
      "provenance": [],
      "collapsed_sections": []
    },
    "kernelspec": {
      "name": "python3",
      "display_name": "Python 3"
    },
    "language_info": {
      "name": "python"
    }
  },
  "cells": [
    {
      "cell_type": "markdown",
      "source": [
        "[참고 사이트](https://www.datacamp.com/community/tutorials/decorators-python?utm_source=adwords_ppc)\n",
        "## 🧐Python decorator?\n",
        "- python object에 그 구조에 대한 수정 없이 새로운 속성을 부여하는 design\n",
        "- 일반적으로 \"decorate\" 하고자 하는 함수 정의 이전에 호출됨\n",
        "\n",
        "- @ 기호로 표현\n",
        "- 다른 함수를 wrap(감싸는) logic"
      ],
      "metadata": {
        "id": "t5hE-QLijS5N"
      }
    },
    {
      "cell_type": "markdown",
      "source": [
        "1. 함수를 정의하고 다른 객체에 assign 하여도 정상작동"
      ],
      "metadata": {
        "id": "9m4lcIukjs1l"
      }
    },
    {
      "cell_type": "code",
      "execution_count": 2,
      "metadata": {
        "colab": {
          "base_uri": "https://localhost:8080/"
        },
        "id": "lnn8dg6EjI54",
        "outputId": "1577eb48-751b-4b54-9d81-0015f5f63470"
      },
      "outputs": [
        {
          "output_type": "execute_result",
          "data": {
            "text/plain": [
              "6"
            ]
          },
          "metadata": {},
          "execution_count": 2
        }
      ],
      "source": [
        "def plus_one(num):\n",
        "  return num+1\n",
        "add_one = plus_one #함수 객체를 다른 변수에 할당\n",
        "add_one(5) # 문제 없이 작동"
      ]
    },
    {
      "cell_type": "markdown",
      "source": [
        "2. 함수 안에 함수 넣기"
      ],
      "metadata": {
        "id": "AeYjP5a9jz4E"
      }
    },
    {
      "cell_type": "code",
      "source": [
        "def plus_one(num):\n",
        "  def add_one(num):\n",
        "    return num+1\n",
        "  result = add_one(num)\n",
        "\n",
        "  return result\n",
        "plus_one(4)"
      ],
      "metadata": {
        "colab": {
          "base_uri": "https://localhost:8080/"
        },
        "id": "vWyX8mVfjZti",
        "outputId": "cbd9a0f4-779a-40a1-e4e4-3c681b791c3d"
      },
      "execution_count": 3,
      "outputs": [
        {
          "output_type": "execute_result",
          "data": {
            "text/plain": [
              "5"
            ]
          },
          "metadata": {},
          "execution_count": 3
        }
      ]
    },
    {
      "cell_type": "markdown",
      "source": [
        "3. 함수를 다른 함수에 argument로 넣기"
      ],
      "metadata": {
        "id": "BbhyNKRQkak1"
      }
    },
    {
      "cell_type": "code",
      "source": [
        "def plus_one(num):\n",
        "  return num +1\n",
        "def func_call(func): # 함수를 인자로 받아\n",
        "  number_to_add = 5\n",
        "  return func(number_to_add) # 내부 변수입력을 넣어 출력\n",
        "\n",
        "func_call(plus_one)"
      ],
      "metadata": {
        "colab": {
          "base_uri": "https://localhost:8080/"
        },
        "id": "kqmo5vwokXGT",
        "outputId": "86bfd750-ad70-4f54-db96-3d6864afbe41"
      },
      "execution_count": 4,
      "outputs": [
        {
          "output_type": "execute_result",
          "data": {
            "text/plain": [
              "6"
            ]
          },
          "metadata": {},
          "execution_count": 4
        }
      ]
    },
    {
      "cell_type": "markdown",
      "source": [
        "4. 다른 함수를 return하는 함수"
      ],
      "metadata": {
        "id": "DwWNUweylkFl"
      }
    },
    {
      "cell_type": "code",
      "source": [
        "def hello_func():\n",
        "  def sayhi():\n",
        "    return \"Hi\"\n",
        "  return sayhi\n",
        "\n",
        "# hello_func()()\n",
        "hello = hello_func()\n",
        "hello()"
      ],
      "metadata": {
        "colab": {
          "base_uri": "https://localhost:8080/",
          "height": 35
        },
        "id": "Amcv39DFlg1O",
        "outputId": "9f56c139-13ec-422a-c4d7-33b5843be067"
      },
      "execution_count": 8,
      "outputs": [
        {
          "output_type": "execute_result",
          "data": {
            "application/vnd.google.colaboratory.intrinsic+json": {
              "type": "string"
            },
            "text/plain": [
              "'Hi'"
            ]
          },
          "metadata": {},
          "execution_count": 8
        }
      ]
    },
    {
      "cell_type": "markdown",
      "source": [
        "5. Nested function은 enclosing function의 변수 scope에 접근할 수 있다."
      ],
      "metadata": {
        "id": "yHeKEkzWmtcc"
      }
    },
    {
      "cell_type": "code",
      "source": [
        "def print_message(message):\n",
        "  \"Enclosing Function\"\n",
        "  def message_sender():\n",
        "    \"Nested Function\"\n",
        "    print(message) # enclosing function의 message 변수에 접근 가능\n",
        "  \n",
        "  message_sender()\n",
        "\n",
        "print_message(\"Hello Guys\")"
      ],
      "metadata": {
        "colab": {
          "base_uri": "https://localhost:8080/"
        },
        "id": "qA2975K3lxme",
        "outputId": "e2933d21-8c5e-4371-af2e-c910deed32e4"
      },
      "execution_count": 10,
      "outputs": [
        {
          "output_type": "stream",
          "name": "stdout",
          "text": [
            "Hello Guys\n"
          ]
        }
      ]
    },
    {
      "cell_type": "markdown",
      "source": [
        "## ☺이제 Decorator 만들어 봅시다.\n",
        "1. enclosed function에 wrapper를 정의함"
      ],
      "metadata": {
        "id": "TI7gXRSNow7j"
      }
    },
    {
      "cell_type": "code",
      "source": [
        "def uppercase_decorator(function):\n",
        "  def wrapper():\n",
        "    func = function()\n",
        "    make_uppercase = func.upper()\n",
        "    return make_uppercase\n",
        "  return wrapper"
      ],
      "metadata": {
        "id": "iuSs_4AtolQq"
      },
      "execution_count": 11,
      "outputs": []
    },
    {
      "cell_type": "markdown",
      "source": [
        "2. Decorator function은 argument로 함수를 받으므로, function을 정의하고 decorator에 통과해야만 함"
      ],
      "metadata": {
        "id": "p0uowdgGpzF0"
      }
    },
    {
      "cell_type": "code",
      "source": [
        "def say_hi():\n",
        "  return 'hello there'\n",
        "\n",
        "decorate = uppercase_decorator(say_hi)\n",
        "decorate()"
      ],
      "metadata": {
        "colab": {
          "base_uri": "https://localhost:8080/",
          "height": 35
        },
        "id": "gZrwlO3yqX62",
        "outputId": "b275d584-afc9-40ce-b126-d7d3cbd87266"
      },
      "execution_count": 12,
      "outputs": [
        {
          "output_type": "execute_result",
          "data": {
            "application/vnd.google.colaboratory.intrinsic+json": {
              "type": "string"
            },
            "text/plain": [
              "'HELLO THERE'"
            ]
          },
          "metadata": {},
          "execution_count": 12
        }
      ]
    },
    {
      "cell_type": "markdown",
      "source": [
        "3. 위의 과정을 아래의 명령어 한줄로 단축시킬 수 있다. \n"
      ],
      "metadata": {
        "id": "_YWN-ZC4sjK9"
      }
    },
    {
      "cell_type": "code",
      "source": [
        "@uppercase_decorator\n",
        "def say_hi():\n",
        "  return 'hello there'\n",
        "say_hi()"
      ],
      "metadata": {
        "colab": {
          "base_uri": "https://localhost:8080/",
          "height": 35
        },
        "id": "D-ifxSwMqiLU",
        "outputId": "308d85ed-4c01-4d41-829e-f6bb7e886dfe"
      },
      "execution_count": 14,
      "outputs": [
        {
          "output_type": "execute_result",
          "data": {
            "application/vnd.google.colaboratory.intrinsic+json": {
              "type": "string"
            },
            "text/plain": [
              "'HELLO THERE'"
            ]
          },
          "metadata": {},
          "execution_count": 14
        }
      ]
    },
    {
      "cell_type": "markdown",
      "source": [
        "> Python decorator는\n",
        "- 함수의 기능을 subclassing이나 source code 수정 없이 바꾸어 줍니다.\n",
        "\n",
        "## 용례\n",
        "- flask가 Django와 같은 python framework의 권한 부여\n",
        "- logging\n",
        "- 실행시간 체크\n",
        "- 동기화\n"
      ],
      "metadata": {
        "id": "6SuABQoEq6VE"
      }
    },
    {
      "cell_type": "code",
      "source": [
        ""
      ],
      "metadata": {
        "id": "at85HNcLsLyj"
      },
      "execution_count": null,
      "outputs": []
    }
  ]
}