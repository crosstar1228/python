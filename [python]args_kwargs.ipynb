{
 "cells": [
  {
   "cell_type": "markdown",
   "id": "e74749bc",
   "metadata": {},
   "source": [
    "## *args\n",
    "- 함수에서 여러 인자를 **튜플 형태로 저장**"
   ]
  },
  {
   "cell_type": "code",
   "execution_count": 3,
   "id": "42a49a83",
   "metadata": {},
   "outputs": [
    {
     "data": {
      "text/plain": [
       "(1, 2, 3)"
      ]
     },
     "execution_count": 3,
     "metadata": {},
     "output_type": "execute_result"
    }
   ],
   "source": [
    "def add(*args):\n",
    "    return args\n",
    "    \n",
    "add(1, 2, 3)"
   ]
  },
  {
   "cell_type": "markdown",
   "id": "a40bfe79",
   "metadata": {},
   "source": [
    "## ** kwargs\n",
    "- 함수에서 여러 키워드 인자를 **딕셔너리 형태로 저장**"
   ]
  },
  {
   "cell_type": "code",
   "execution_count": 6,
   "id": "ca29773c",
   "metadata": {},
   "outputs": [
    {
     "data": {
      "text/plain": [
       "{'name': '나', 'age': 20}"
      ]
     },
     "execution_count": 6,
     "metadata": {},
     "output_type": "execute_result"
    }
   ],
   "source": [
    "def add2(**kwargs):\n",
    "    return kwargs\n",
    "add2(name='나', age =20)"
   ]
  },
  {
   "cell_type": "markdown",
   "id": "64f9e7d6",
   "metadata": {},
   "source": [
    "- args, kwargs는 다른 변수명이어도 상관없다.\n",
    "- 혼용해서 쓸 수 있다."
   ]
  },
  {
   "cell_type": "code",
   "execution_count": 7,
   "id": "b5bfd7db",
   "metadata": {},
   "outputs": [
    {
     "data": {
      "text/plain": [
       "((3, 4, 2), {'name': 'John', 'age': 100})"
      ]
     },
     "execution_count": 7,
     "metadata": {},
     "output_type": "execute_result"
    }
   ],
   "source": [
    "def add3(*count, **info):\n",
    "    return count,info\n",
    "\n",
    "add3(3,4,2,name=\"John\",age=100)"
   ]
  }
 ],
 "metadata": {
  "kernelspec": {
   "display_name": "Python 3",
   "language": "python",
   "name": "python3"
  },
  "language_info": {
   "codemirror_mode": {
    "name": "ipython",
    "version": 3
   },
   "file_extension": ".py",
   "mimetype": "text/x-python",
   "name": "python",
   "nbconvert_exporter": "python",
   "pygments_lexer": "ipython3",
   "version": "3.8.8"
  }
 },
 "nbformat": 4,
 "nbformat_minor": 5
}
