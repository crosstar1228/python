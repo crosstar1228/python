{
  "nbformat": 4,
  "nbformat_minor": 0,
  "metadata": {
    "colab": {
      "name": "[python]args_kwargs.ipynb",
      "provenance": []
    },
    "kernelspec": {
      "name": "python3",
      "display_name": "Python 3"
    },
    "language_info": {
      "name": "python"
    }
  },
  "cells": [
    {
      "cell_type": "code",
      "execution_count": 1,
      "metadata": {
        "id": "LJcvtSLLYH5_"
      },
      "outputs": [],
      "source": [
        "list1 = [1,2,3,4,5]\n",
        "\n",
        "*a, b, c =list1"
      ]
    },
    {
      "cell_type": "code",
      "source": [
        "print(a)"
      ],
      "metadata": {
        "colab": {
          "base_uri": "https://localhost:8080/"
        },
        "id": "9efarbbucNs6",
        "outputId": "09bcb8ef-1967-46e8-aea1-35f2e3bb77e6"
      },
      "execution_count": 2,
      "outputs": [
        {
          "output_type": "stream",
          "name": "stdout",
          "text": [
            "[1, 2, 3]\n"
          ]
        }
      ]
    },
    {
      "cell_type": "code",
      "source": [
        "print(*list1)"
      ],
      "metadata": {
        "colab": {
          "base_uri": "https://localhost:8080/"
        },
        "id": "Z6i-SVKHcRGo",
        "outputId": "9360d7c5-9a19-44d1-dc73-1199c9da8a98"
      },
      "execution_count": 3,
      "outputs": [
        {
          "output_type": "stream",
          "name": "stdout",
          "text": [
            "1 2 3 4 5\n"
          ]
        }
      ]
    },
    {
      "cell_type": "code",
      "source": [
        "print(list1)"
      ],
      "metadata": {
        "colab": {
          "base_uri": "https://localhost:8080/"
        },
        "id": "LV3sTr96dCpy",
        "outputId": "34fe4c15-a275-4b05-f5f3-3b2d8b069e0b"
      },
      "execution_count": 4,
      "outputs": [
        {
          "output_type": "stream",
          "name": "stdout",
          "text": [
            "[1, 2, 3, 4, 5]\n"
          ]
        }
      ]
    },
    {
      "cell_type": "code",
      "source": [
        "A = [[1,2,3], [4,5,6]]\n",
        "list(zip(*A))"
      ],
      "metadata": {
        "colab": {
          "base_uri": "https://localhost:8080/"
        },
        "id": "9k46ZRVkdENO",
        "outputId": "01111767-1f2d-43ec-a359-0f93187827a9"
      },
      "execution_count": 5,
      "outputs": [
        {
          "output_type": "execute_result",
          "data": {
            "text/plain": [
              "[(1, 4), (2, 5), (3, 6)]"
            ]
          },
          "metadata": {},
          "execution_count": 5
        }
      ]
    },
    {
      "cell_type": "code",
      "source": [
        "B = [[1,2,3], [4,5,6], [7,8,9]]\n",
        "list(zip(*B))"
      ],
      "metadata": {
        "colab": {
          "base_uri": "https://localhost:8080/"
        },
        "id": "ZOOtg-fufvY6",
        "outputId": "0e8e4226-bbd8-48a0-dc4b-45ae615dd1bd"
      },
      "execution_count": 6,
      "outputs": [
        {
          "output_type": "execute_result",
          "data": {
            "text/plain": [
              "[(1, 4, 7), (2, 5, 8), (3, 6, 9)]"
            ]
          },
          "metadata": {},
          "execution_count": 6
        }
      ]
    },
    {
      "cell_type": "code",
      "source": [
        "D = {'Chris':1, 'Emily': 2 , 'John':3 }\n",
        "\n",
        "def keyarg(**kwargs):\n",
        "  return kwargs\n",
        "\n"
      ],
      "metadata": {
        "id": "iTC04evWgw2z"
      },
      "execution_count": 21,
      "outputs": []
    },
    {
      "cell_type": "code",
      "source": [
        "keyarg(**D)"
      ],
      "metadata": {
        "colab": {
          "base_uri": "https://localhost:8080/"
        },
        "id": "p3AMytBghFse",
        "outputId": "475b1368-bd67-4fde-d0c5-c63d64b3fbc4"
      },
      "execution_count": 14,
      "outputs": [
        {
          "output_type": "execute_result",
          "data": {
            "text/plain": [
              "{'Chris': 1, 'Emily': 2, 'John': 3}"
            ]
          },
          "metadata": {},
          "execution_count": 14
        }
      ]
    },
    {
      "cell_type": "code",
      "source": [
        "keyarg(Chris=1, Emily=2, John=3)"
      ],
      "metadata": {
        "colab": {
          "base_uri": "https://localhost:8080/"
        },
        "id": "ZBNcxOTSocod",
        "outputId": "8a877204-f360-4a04-f9ec-1bb045fd7204"
      },
      "execution_count": 16,
      "outputs": [
        {
          "output_type": "execute_result",
          "data": {
            "text/plain": [
              "{'Chris': 1, 'Emily': 2, 'John': 3}"
            ]
          },
          "metadata": {},
          "execution_count": 16
        }
      ]
    },
    {
      "cell_type": "markdown",
      "source": [
        "## 정리 🤞\n",
        "- unpacking 할 때는 * 하나를 넣어줌으로서 간단히 언패킹이 가능하다.\n",
        "- 함수에서 입력 인자가 여러개일 경우 *로 \n",
        "- 함수에서 키워드 인자를 받을 경우(key=value의 형태), **kwargs 형태로 함수를 설정할 수 있고 이때 키워드 인자를 개수 제한 없이 받을 수 있다.이 방법이 아니라도, 딕셔너리 형태로도 입력받기가 가능하다. "
      ],
      "metadata": {
        "id": "4myyrt5Yrd6p"
      }
    },
    {
      "cell_type": "code",
      "source": [
        ""
      ],
      "metadata": {
        "id": "wJoZ_caAwDl3"
      },
      "execution_count": null,
      "outputs": []
    }
  ]
}