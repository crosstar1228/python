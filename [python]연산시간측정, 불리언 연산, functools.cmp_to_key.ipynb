{
 "cells": [
  {
   "cell_type": "markdown",
   "id": "0ab06d3e",
   "metadata": {},
   "source": [
    "## Sorting 문제.\n",
    "[문제 풀기](https://programmers.co.kr/learn/courses/30/lessons/42746)\n",
    "\n",
    "\n",
    "> ### 🧐ideation\n",
    "> - 51, 5, 57 이렇게 있으면 57, 5, 51 이렇게 배열해야 최대가 나옴. \n",
    "> - 다시 말해, 두자리 숫자라면 둘째 자리 수가 앞자리 수보다 작을때는 뒤로 가는게 낫고, 그게 아니라면 앞으로 와야함.\n"
   ]
  },
  {
   "cell_type": "markdown",
   "id": "f104a598",
   "metadata": {},
   "source": [
    "1. 위의 아이디어를 생각하지 않고 그냥 모든 경우의수를 고려하여 시간초과 뜬 코드."
   ]
  },
  {
   "cell_type": "code",
   "execution_count": 2,
   "id": "e281f8e4",
   "metadata": {},
   "outputs": [],
   "source": [
    "\n",
    "from itertools import permutations\n",
    "\n",
    "def solution(numbers): \n",
    "    return str(max([ int(''.join(list(map(lambda x : str(x),perm)))) for perm in permutations(numbers)]))"
   ]
  },
  {
   "cell_type": "markdown",
   "id": "0fa24d9d",
   "metadata": {},
   "source": [
    "2. 숫자가 1000 이하라는 조건을 이용한 풀이.\n",
    "\n",
    "991, 9 가 있다면 9 가 먼저 올 수 있도록 991991991, 999 로 늘여서 비교.\n",
    "\n"
   ]
  },
  {
   "cell_type": "code",
   "execution_count": 16,
   "id": "e7628ecf",
   "metadata": {},
   "outputs": [],
   "source": [
    "def solution(numbers): \n",
    "    numbers=sorted([(str(num)*3, num) for num in numbers] ,key= lambda x : x[0], reverse = True)\n",
    "    return ''.join([str(tup[1]) for tup in numbers])"
   ]
  },
  {
   "cell_type": "markdown",
   "id": "ce0572d9",
   "metadata": {},
   "source": [
    "3. functool.cmp_to_key 를 이용한 풀이. 경이롭다.\n",
    "\n",
    "- a와 b는 각각 string type이므로 더하면 이어진다. 이것을 비교하는 거다.\n",
    "- 2번과 같은 번뜩이는 아이디어가 아니라 ideation에 의한 직관적인 풀이."
   ]
  },
  {
   "cell_type": "code",
   "execution_count": null,
   "id": "6d287a91",
   "metadata": {},
   "outputs": [],
   "source": [
    "import functools\n",
    "\n",
    "def comparator(a,b):\n",
    "    t1 = a+b\n",
    "    t2 = b+a\n",
    "    return (int(t1) > int(t2)) - (int(t1) < int(t2)) #  t1이 크다면 1  // t2가 크다면 -1  //  같으면 0\n",
    "\n",
    "def solution(numbers):\n",
    "    n = [str(x) for x in numbers]\n",
    "    n = sorted(n, key=functools.cmp_to_key(comparator),reverse=True)\n",
    "    answer = str(int(''.join(n)))\n",
    "    return answer"
   ]
  },
  {
   "cell_type": "markdown",
   "id": "22b6d4ba",
   "metadata": {},
   "source": [
    "## 보너스\n",
    "1) 시간재는법\n",
    "\n",
    "2) functool.cmp_to_key\n",
    "\n",
    "3) True, False는 각각 1과 0이다. "
   ]
  },
  {
   "cell_type": "code",
   "execution_count": 5,
   "id": "59149b8d",
   "metadata": {},
   "outputs": [
    {
     "name": "stdout",
     "output_type": "stream",
     "text": [
      "9534330\n",
      " 0.0000000000sec\n"
     ]
    }
   ],
   "source": [
    "import time\n",
    "start = time.time()\n",
    "print(solution([3, 30, 34, 5, 9]))\n",
    "end = time.time()\n",
    "\n",
    "print(f\"{end - start: .10f}sec\")"
   ]
  },
  {
   "cell_type": "markdown",
   "id": "6305b7ab",
   "metadata": {},
   "source": [
    "l1을 \n",
    "\n",
    "1) y좌표 오름차순\n",
    "\n",
    "2) y좌표 같다면 x좌표 오름차순\n",
    "\n",
    "으로 정리해 보자."
   ]
  },
  {
   "cell_type": "markdown",
   "id": "72b2471b",
   "metadata": {},
   "source": [
    "- lambda로 정리하는 방법"
   ]
  },
  {
   "cell_type": "code",
   "execution_count": 10,
   "id": "0534144a",
   "metadata": {},
   "outputs": [
    {
     "name": "stdout",
     "output_type": "stream",
     "text": [
      "[(1, -1), (1, 2), (2, 2), (3, 3), (0, 4)]\n"
     ]
    }
   ],
   "source": [
    "l1 = [(0, 4), (1, 2), (1, -1), (2, 2), (3, 3)]\n",
    "l2 = sorted(l1, key =lambda x : (x[1],x[0]))\n",
    "\n",
    "print(l2)"
   ]
  },
  {
   "cell_type": "markdown",
   "id": "d468a11c",
   "metadata": {},
   "source": [
    "- functool.cmp_to_key 로 정렬하는 방법"
   ]
  },
  {
   "cell_type": "code",
   "execution_count": null,
   "id": "b9284eed",
   "metadata": {},
   "outputs": [],
   "source": [
    "import functools\n",
    "\n",
    "def xy_compare(n1, n2):\n",
    "    if n1[1] > n2[1]:         # y 좌표가 크면\n",
    "        return 1\n",
    "    elif n1[1] == n2[1]:      # y 좌표가 같으면\n",
    "        if n1[0] > n2[0]:     # x 좌표가 크면\n",
    "            return 1\n",
    "        elif n1[0] == n2[0]:  # x 좌표가 같으면\n",
    "            return 0\n",
    "        else:                 # x 좌표가 작으면\n",
    "            return -1\n",
    "    else:                     # y 좌표가 작으면\n",
    "        return -1\n",
    "\n",
    "src = [(0, 4), (1, 2), (1, -1), (2, 2), (3, 3)]\n",
    "result = sorted(src, key=functools.cmp_to_key(xy_compare))\n",
    "print(result)"
   ]
  },
  {
   "cell_type": "markdown",
   "id": "d4324e6a",
   "metadata": {},
   "source": [
    "3) 불리언 덧셈 뺄셈 1 과 0!"
   ]
  },
  {
   "cell_type": "code",
   "execution_count": 12,
   "id": "9abaea42",
   "metadata": {},
   "outputs": [
    {
     "data": {
      "text/plain": [
       "1"
      ]
     },
     "execution_count": 12,
     "metadata": {},
     "output_type": "execute_result"
    }
   ],
   "source": [
    "True - False"
   ]
  },
  {
   "cell_type": "code",
   "execution_count": 13,
   "id": "53b6e264",
   "metadata": {},
   "outputs": [
    {
     "data": {
      "text/plain": [
       "0"
      ]
     },
     "execution_count": 13,
     "metadata": {},
     "output_type": "execute_result"
    }
   ],
   "source": [
    "True - True"
   ]
  },
  {
   "cell_type": "code",
   "execution_count": 14,
   "id": "9ee7380a",
   "metadata": {},
   "outputs": [
    {
     "data": {
      "text/plain": [
       "-1"
      ]
     },
     "execution_count": 14,
     "metadata": {},
     "output_type": "execute_result"
    }
   ],
   "source": [
    "False - True"
   ]
  },
  {
   "cell_type": "code",
   "execution_count": 15,
   "id": "c1e3ba5d",
   "metadata": {},
   "outputs": [
    {
     "data": {
      "text/plain": [
       "0"
      ]
     },
     "execution_count": 15,
     "metadata": {},
     "output_type": "execute_result"
    }
   ],
   "source": [
    "False - False"
   ]
  },
  {
   "cell_type": "code",
   "execution_count": null,
   "id": "7e6a60ea",
   "metadata": {},
   "outputs": [],
   "source": []
  }
 ],
 "metadata": {
  "kernelspec": {
   "display_name": "Python 3",
   "language": "python",
   "name": "python3"
  },
  "language_info": {
   "codemirror_mode": {
    "name": "ipython",
    "version": 3
   },
   "file_extension": ".py",
   "mimetype": "text/x-python",
   "name": "python",
   "nbconvert_exporter": "python",
   "pygments_lexer": "ipython3",
   "version": "3.8.8"
  }
 },
 "nbformat": 4,
 "nbformat_minor": 5
}
