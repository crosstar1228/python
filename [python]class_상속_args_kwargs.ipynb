{
  "nbformat": 4,
  "nbformat_minor": 0,
  "metadata": {
    "colab": {
      "name": "[python]class_상속_*args_**kwargs.ipynb",
      "provenance": []
    },
    "kernelspec": {
      "name": "python3",
      "display_name": "Python 3"
    },
    "language_info": {
      "name": "python"
    }
  },
  "cells": [
    {
      "cell_type": "markdown",
      "source": [
        "## class 상속과 `*args`, `**kwargs`\n",
        "1) 자식클래스의 인자도 정의되지 않았고 상속값도 안받은 경우  \n",
        "2) 자식클래스 인자 정의하고 상속 변수도 정의한 경우 (`*args`, `**kwargs`)  \n",
        "3) 자식클래스 인자 정의하고 상속값을 다른 특정 value로 입력한 경우  \n",
        "4) 자식클래스 인자를 정의했지만 상속 변수가 정의되지 않은 경우  "
      ],
      "metadata": {
        "id": "cx6S73NkMFvp"
      }
    },
    {
      "cell_type": "code",
      "execution_count": 1,
      "metadata": {
        "id": "7elyCR40-GVk"
      },
      "outputs": [],
      "source": [
        "class addition:\n",
        "  def __init__(self,a, b):\n",
        "    self.a = a\n",
        "    self.b = b\n",
        "  def add(self):\n",
        "    result = self.a + self.b\n",
        "    return result\n",
        "\n",
        "class calculator(addition):\n",
        "  def __init__(self):\n",
        "    super().__init__()\n",
        "    self.cal = 'I am a calculator'\n",
        "\n",
        "\n"
      ]
    },
    {
      "cell_type": "markdown",
      "source": [
        "## 위와 같이 코드를 짜고 아래와 같이 인스턴스 생성."
      ],
      "metadata": {
        "id": "vNifvTqlBFHs"
      }
    },
    {
      "cell_type": "code",
      "source": [
        "tool = calculator()"
      ],
      "metadata": {
        "colab": {
          "base_uri": "https://localhost:8080/",
          "height": 284
        },
        "id": "TKO3SYbpBCQ7",
        "outputId": "ca5baf66-f189-438c-9ac7-b6692e67b3b9"
      },
      "execution_count": 4,
      "outputs": [
        {
          "output_type": "error",
          "ename": "TypeError",
          "evalue": "ignored",
          "traceback": [
            "\u001b[0;31m---------------------------------------------------------------------------\u001b[0m",
            "\u001b[0;31mTypeError\u001b[0m                                 Traceback (most recent call last)",
            "\u001b[0;32m<ipython-input-4-4f3361858842>\u001b[0m in \u001b[0;36m<module>\u001b[0;34m()\u001b[0m\n\u001b[0;32m----> 1\u001b[0;31m \u001b[0mtool\u001b[0m \u001b[0;34m=\u001b[0m \u001b[0mcalculator\u001b[0m\u001b[0;34m(\u001b[0m\u001b[0;34m)\u001b[0m\u001b[0;34m\u001b[0m\u001b[0;34m\u001b[0m\u001b[0m\n\u001b[0m",
            "\u001b[0;32m<ipython-input-1-63aa5f207529>\u001b[0m in \u001b[0;36m__init__\u001b[0;34m(self)\u001b[0m\n\u001b[1;32m      9\u001b[0m \u001b[0;32mclass\u001b[0m \u001b[0mcalculator\u001b[0m\u001b[0;34m(\u001b[0m\u001b[0maddition\u001b[0m\u001b[0;34m)\u001b[0m\u001b[0;34m:\u001b[0m\u001b[0;34m\u001b[0m\u001b[0;34m\u001b[0m\u001b[0m\n\u001b[1;32m     10\u001b[0m   \u001b[0;32mdef\u001b[0m \u001b[0m__init__\u001b[0m\u001b[0;34m(\u001b[0m\u001b[0mself\u001b[0m\u001b[0;34m)\u001b[0m\u001b[0;34m:\u001b[0m\u001b[0;34m\u001b[0m\u001b[0;34m\u001b[0m\u001b[0m\n\u001b[0;32m---> 11\u001b[0;31m     \u001b[0msuper\u001b[0m\u001b[0;34m(\u001b[0m\u001b[0;34m)\u001b[0m\u001b[0;34m.\u001b[0m\u001b[0m__init__\u001b[0m\u001b[0;34m(\u001b[0m\u001b[0;34m)\u001b[0m\u001b[0;34m\u001b[0m\u001b[0;34m\u001b[0m\u001b[0m\n\u001b[0m\u001b[1;32m     12\u001b[0m     \u001b[0mself\u001b[0m\u001b[0;34m.\u001b[0m\u001b[0mcal\u001b[0m \u001b[0;34m=\u001b[0m \u001b[0;34m'I am a calculator'\u001b[0m\u001b[0;34m\u001b[0m\u001b[0;34m\u001b[0m\u001b[0m\n",
            "\u001b[0;31mTypeError\u001b[0m: __init__() missing 2 required positional arguments: 'a' and 'b'"
          ]
        }
      ]
    },
    {
      "cell_type": "code",
      "source": [
        "tool = calculator(1,2)"
      ],
      "metadata": {
        "colab": {
          "base_uri": "https://localhost:8080/",
          "height": 173
        },
        "id": "dhQwvsOPAOsx",
        "outputId": "945fbd2c-e37b-4478-9d6e-1a4296c83ea8"
      },
      "execution_count": 3,
      "outputs": [
        {
          "output_type": "error",
          "ename": "TypeError",
          "evalue": "ignored",
          "traceback": [
            "\u001b[0;31m---------------------------------------------------------------------------\u001b[0m",
            "\u001b[0;31mTypeError\u001b[0m                                 Traceback (most recent call last)",
            "\u001b[0;32m<ipython-input-3-9e3282bef0c5>\u001b[0m in \u001b[0;36m<module>\u001b[0;34m()\u001b[0m\n\u001b[0;32m----> 1\u001b[0;31m \u001b[0mtool\u001b[0m \u001b[0;34m=\u001b[0m \u001b[0mcalculator\u001b[0m\u001b[0;34m(\u001b[0m\u001b[0;36m1\u001b[0m\u001b[0;34m,\u001b[0m\u001b[0;36m2\u001b[0m\u001b[0;34m)\u001b[0m\u001b[0;34m\u001b[0m\u001b[0;34m\u001b[0m\u001b[0m\n\u001b[0m",
            "\u001b[0;31mTypeError\u001b[0m: __init__() takes 1 positional argument but 3 were given"
          ]
        }
      ]
    },
    {
      "cell_type": "markdown",
      "source": [
        "> 1차시도 : 그냥 생성하니까 오류\n",
        "2차시도 : 상속받은 클래스처럼 input을 넣어줘도 오류\n",
        "-> 뭐야 대체!!🤣 \n",
        "두 경우 모두 오류가 난다. 설계 자체가 잘못된 것 같아. "
      ],
      "metadata": {
        "id": "sy1LsmxpAr2P"
      }
    },
    {
      "cell_type": "markdown",
      "source": [
        "## 방법 1. 상속도 받고, argument도 받는 방법"
      ],
      "metadata": {
        "id": "GkqP99BjEnO9"
      }
    },
    {
      "cell_type": "code",
      "source": [
        "## 수정한코드 \n",
        "\n",
        "# addition class는 그대로\n",
        "class addition:\n",
        "  def __init__(self,a, b):\n",
        "    self.a = a\n",
        "    self.b = b\n",
        "  def add(self):\n",
        "    result = self.a + self.b\n",
        "    return result\n",
        "\n",
        "# calculator class의 constructor와 super.__init__() 에 *args, **kwargs 추가!!\n",
        "class calculator(addition):\n",
        "  def __init__(self, *args, **kwargs): #constructor에도 따로 정의! \n",
        "    super().__init__(*args, **kwargs) # 상속 시 argument 통과\n",
        "    self.cal = 'I am a calculator'\n",
        "\n",
        "\n"
      ],
      "metadata": {
        "id": "Ea5isihlBqgH"
      },
      "execution_count": 11,
      "outputs": []
    },
    {
      "cell_type": "code",
      "source": [
        "tool1 = calculator()"
      ],
      "metadata": {
        "colab": {
          "base_uri": "https://localhost:8080/",
          "height": 302
        },
        "id": "0Y28Ez14Boh8",
        "outputId": "4ba3a8bd-8a74-4fdf-918f-8877617215a7"
      },
      "execution_count": 12,
      "outputs": [
        {
          "output_type": "error",
          "ename": "TypeError",
          "evalue": "ignored",
          "traceback": [
            "\u001b[0;31m---------------------------------------------------------------------------\u001b[0m",
            "\u001b[0;31mTypeError\u001b[0m                                 Traceback (most recent call last)",
            "\u001b[0;32m<ipython-input-12-133af92dd20b>\u001b[0m in \u001b[0;36m<module>\u001b[0;34m()\u001b[0m\n\u001b[0;32m----> 1\u001b[0;31m \u001b[0mtool1\u001b[0m \u001b[0;34m=\u001b[0m \u001b[0mcalculator\u001b[0m\u001b[0;34m(\u001b[0m\u001b[0;34m)\u001b[0m\u001b[0;34m\u001b[0m\u001b[0;34m\u001b[0m\u001b[0m\n\u001b[0m",
            "\u001b[0;32m<ipython-input-11-1dc43fc0350b>\u001b[0m in \u001b[0;36m__init__\u001b[0;34m(self, *args, **kwargs)\u001b[0m\n\u001b[1;32m     13\u001b[0m \u001b[0;32mclass\u001b[0m \u001b[0mcalculator\u001b[0m\u001b[0;34m(\u001b[0m\u001b[0maddition\u001b[0m\u001b[0;34m)\u001b[0m\u001b[0;34m:\u001b[0m\u001b[0;34m\u001b[0m\u001b[0;34m\u001b[0m\u001b[0m\n\u001b[1;32m     14\u001b[0m   \u001b[0;32mdef\u001b[0m \u001b[0m__init__\u001b[0m\u001b[0;34m(\u001b[0m\u001b[0mself\u001b[0m\u001b[0;34m,\u001b[0m \u001b[0;34m*\u001b[0m\u001b[0margs\u001b[0m\u001b[0;34m,\u001b[0m \u001b[0;34m**\u001b[0m\u001b[0mkwargs\u001b[0m\u001b[0;34m)\u001b[0m\u001b[0;34m:\u001b[0m \u001b[0;31m#constructor에도 따로 정의!\u001b[0m\u001b[0;34m\u001b[0m\u001b[0;34m\u001b[0m\u001b[0m\n\u001b[0;32m---> 15\u001b[0;31m     \u001b[0msuper\u001b[0m\u001b[0;34m(\u001b[0m\u001b[0;34m)\u001b[0m\u001b[0;34m.\u001b[0m\u001b[0m__init__\u001b[0m\u001b[0;34m(\u001b[0m\u001b[0;34m*\u001b[0m\u001b[0margs\u001b[0m\u001b[0;34m,\u001b[0m \u001b[0;34m**\u001b[0m\u001b[0mkwargs\u001b[0m\u001b[0;34m)\u001b[0m \u001b[0;31m# 상속 시 argument 통과\u001b[0m\u001b[0;34m\u001b[0m\u001b[0;34m\u001b[0m\u001b[0m\n\u001b[0m\u001b[1;32m     16\u001b[0m     \u001b[0mself\u001b[0m\u001b[0;34m.\u001b[0m\u001b[0mcal\u001b[0m \u001b[0;34m=\u001b[0m \u001b[0;34m'I am a calculator'\u001b[0m\u001b[0;34m\u001b[0m\u001b[0;34m\u001b[0m\u001b[0m\n\u001b[1;32m     17\u001b[0m \u001b[0;34m\u001b[0m\u001b[0m\n",
            "\u001b[0;31mTypeError\u001b[0m: __init__() missing 2 required positional arguments: 'a' and 'b'"
          ]
        }
      ]
    },
    {
      "cell_type": "code",
      "source": [
        "tool1 = calculator(1,2)\n",
        "tool1.add()"
      ],
      "metadata": {
        "colab": {
          "base_uri": "https://localhost:8080/"
        },
        "id": "d-ofqofwCMgb",
        "outputId": "9983cdfd-7ccb-4170-8db5-358a229afa9c"
      },
      "execution_count": 14,
      "outputs": [
        {
          "output_type": "execute_result",
          "data": {
            "text/plain": [
              "3"
            ]
          },
          "metadata": {},
          "execution_count": 14
        }
      ]
    },
    {
      "cell_type": "markdown",
      "source": [
        "## 방법 2. 상속을 받고, argument 입력은 안받는 방법"
      ],
      "metadata": {
        "id": "aBHgY60lCQnE"
      }
    },
    {
      "cell_type": "code",
      "source": [
        "## 수정한코드 \n",
        "\n",
        "# addition class는 그대로\n",
        "class addition:\n",
        "  def __init__(self,a, b):\n",
        "    self.a = a\n",
        "    self.b = b\n",
        "  def add(self):\n",
        "    result = self.a + self.b\n",
        "    return result\n",
        "\n",
        "# calculator class의 constructor는 그대로 \n",
        "# super.__init__() 에 *args, **kwargs 추가!!\n",
        "class calculator(addition):\n",
        "  def __init__(self): #constructor에는 그대로\n",
        "    super().__init__(1, 2) # 상속 시 argument 입력\n",
        "    self.cal = 'I am a calculator'\n",
        "\n",
        "\n"
      ],
      "metadata": {
        "id": "aVGN8AOcF2Q6"
      },
      "execution_count": 15,
      "outputs": []
    },
    {
      "cell_type": "code",
      "source": [
        "# 인자를 받으면 에러가 남. constructor에 self밖에 없으니까.\n",
        "tool2 = calculator(1,2) "
      ],
      "metadata": {
        "colab": {
          "base_uri": "https://localhost:8080/",
          "height": 192
        },
        "id": "Tvh5DbGMGyDb",
        "outputId": "70604fde-989b-4b8f-c08b-776760cde1ab"
      },
      "execution_count": 16,
      "outputs": [
        {
          "output_type": "error",
          "ename": "TypeError",
          "evalue": "ignored",
          "traceback": [
            "\u001b[0;31m---------------------------------------------------------------------------\u001b[0m",
            "\u001b[0;31mTypeError\u001b[0m                                 Traceback (most recent call last)",
            "\u001b[0;32m<ipython-input-16-527ccb61aed6>\u001b[0m in \u001b[0;36m<module>\u001b[0;34m()\u001b[0m\n\u001b[1;32m      1\u001b[0m \u001b[0;31m# 인자를 받으면 에러가 남. constructor에 self밖에 없으니까.\u001b[0m\u001b[0;34m\u001b[0m\u001b[0;34m\u001b[0m\u001b[0;34m\u001b[0m\u001b[0m\n\u001b[0;32m----> 2\u001b[0;31m \u001b[0mtool2\u001b[0m \u001b[0;34m=\u001b[0m \u001b[0mcalculator\u001b[0m\u001b[0;34m(\u001b[0m\u001b[0;36m1\u001b[0m\u001b[0;34m,\u001b[0m\u001b[0;36m2\u001b[0m\u001b[0;34m)\u001b[0m\u001b[0;34m\u001b[0m\u001b[0;34m\u001b[0m\u001b[0m\n\u001b[0m",
            "\u001b[0;31mTypeError\u001b[0m: __init__() takes 1 positional argument but 3 were given"
          ]
        }
      ]
    },
    {
      "cell_type": "code",
      "source": [
        "# 1, 2를 상속받았다. \n",
        "tool2=calculator()\n",
        "tool2.add()"
      ],
      "metadata": {
        "colab": {
          "base_uri": "https://localhost:8080/"
        },
        "id": "QRSjTBUyG6uB",
        "outputId": "235febfe-9476-4d0f-a1f6-bb3920713098"
      },
      "execution_count": 17,
      "outputs": [
        {
          "output_type": "execute_result",
          "data": {
            "text/plain": [
              "3"
            ]
          },
          "metadata": {},
          "execution_count": 17
        }
      ]
    },
    {
      "cell_type": "markdown",
      "source": [
        "위와 같은 방법으로 keyword argument에도 적용할 수 있다는 걸 기억해 주세요!"
      ],
      "metadata": {
        "id": "eARd_9DxHg7e"
      }
    },
    {
      "cell_type": "markdown",
      "source": [
        "## 방법 3.\n",
        "1. constructor 인자 받을 수 있게 하고, \n",
        "2. 별도로 다른 값을 상속받는다면?"
      ],
      "metadata": {
        "id": "gWFzXnjBHpGl"
      }
    },
    {
      "cell_type": "code",
      "source": [
        "## 수정한코드 \n",
        "\n",
        "# addition class는 그대로\n",
        "class addition:\n",
        "  def __init__(self,a, b):\n",
        "    self.a = a\n",
        "    self.b = b\n",
        "  def add(self):\n",
        "    result = self.a + self.b\n",
        "    return result\n",
        "\n",
        "# calculator class의 constructor에 *args, **kwargs 추가!!\n",
        "#  super.__init__() 에 별도의 값 입력으로 상속\n",
        "class calculator(addition):\n",
        "  def __init__(self, *args, **kwargs ): #constructor에는 그대로\n",
        "    super().__init__(1, 2) # 상속 시 argument 입력\n",
        "    self.cal = 'I am a calculator'\n",
        "\n",
        "\n"
      ],
      "metadata": {
        "id": "0YWZoij_HY9-"
      },
      "execution_count": 26,
      "outputs": []
    },
    {
      "cell_type": "markdown",
      "source": [
        "인자도 입력할 수 있는 상태니까 한번 입력을 해봅시다.\n"
      ],
      "metadata": {
        "id": "I3Mh5fzZJFsM"
      }
    },
    {
      "cell_type": "code",
      "source": [
        "tool3= calculator(2,3)\n",
        "tool3.add()"
      ],
      "metadata": {
        "colab": {
          "base_uri": "https://localhost:8080/"
        },
        "id": "IAJPUapNJEtr",
        "outputId": "7d0ee7ea-cc61-4698-98d6-9c87a252c8d1"
      },
      "execution_count": 25,
      "outputs": [
        {
          "output_type": "execute_result",
          "data": {
            "text/plain": [
              "3"
            ]
          },
          "metadata": {},
          "execution_count": 25
        }
      ]
    },
    {
      "cell_type": "markdown",
      "source": [
        "> 이럴수가 ! 입력값을 무시하고 상속된 값 1,2 가 우선하는 것을 확인할 수 있습니다."
      ],
      "metadata": {
        "id": "pK7rlY81JMmu"
      }
    },
    {
      "cell_type": "markdown",
      "source": [
        "## 방법 4. 상속은 안받고 INPUT을 정의한다면? "
      ],
      "metadata": {
        "id": "gCPHR7CgKLLK"
      }
    },
    {
      "cell_type": "code",
      "source": [
        "## 수정한코드 \n",
        "\n",
        "# addition class는 그대로\n",
        "class addition:\n",
        "  def __init__(self,a, b):\n",
        "    self.a = a\n",
        "    self.b = b\n",
        "  def add(self):\n",
        "    result = self.a + self.b\n",
        "    return result\n",
        "\n",
        "# calculator class의 constructor에 *args, **kwargs 추가!!\n",
        "#  super.__init__() 에 별도의 값 입력으로 상속\n",
        "class calculator(addition):\n",
        "  def __init__(self, *args, **kwargs ): #constructor에는 그대로\n",
        "    super().__init__() # 상속 시 argument 입력\n",
        "    self.cal = 'I am a calculator'\n",
        "\n",
        "\n"
      ],
      "metadata": {
        "id": "9Q1dJmgHKRl6"
      },
      "execution_count": 27,
      "outputs": []
    },
    {
      "cell_type": "code",
      "source": [
        "tool4 = calculator(5,2)\n",
        "tool4.add()"
      ],
      "metadata": {
        "colab": {
          "base_uri": "https://localhost:8080/",
          "height": 320
        },
        "id": "6jhDtAWjKWXt",
        "outputId": "6dd4f3ab-6ae3-4da2-a90b-4af92e2d93c4"
      },
      "execution_count": 28,
      "outputs": [
        {
          "output_type": "error",
          "ename": "TypeError",
          "evalue": "ignored",
          "traceback": [
            "\u001b[0;31m---------------------------------------------------------------------------\u001b[0m",
            "\u001b[0;31mTypeError\u001b[0m                                 Traceback (most recent call last)",
            "\u001b[0;32m<ipython-input-28-718a819da5c3>\u001b[0m in \u001b[0;36m<module>\u001b[0;34m()\u001b[0m\n\u001b[0;32m----> 1\u001b[0;31m \u001b[0mtool4\u001b[0m \u001b[0;34m=\u001b[0m \u001b[0mcalculator\u001b[0m\u001b[0;34m(\u001b[0m\u001b[0;36m5\u001b[0m\u001b[0;34m,\u001b[0m\u001b[0;36m2\u001b[0m\u001b[0;34m)\u001b[0m\u001b[0;34m\u001b[0m\u001b[0;34m\u001b[0m\u001b[0m\n\u001b[0m\u001b[1;32m      2\u001b[0m \u001b[0mtool4\u001b[0m\u001b[0;34m.\u001b[0m\u001b[0madd\u001b[0m\u001b[0;34m(\u001b[0m\u001b[0;34m)\u001b[0m\u001b[0;34m\u001b[0m\u001b[0;34m\u001b[0m\u001b[0m\n",
            "\u001b[0;32m<ipython-input-27-d6d4d8a100ed>\u001b[0m in \u001b[0;36m__init__\u001b[0;34m(self, *args, **kwargs)\u001b[0m\n\u001b[1;32m     14\u001b[0m \u001b[0;32mclass\u001b[0m \u001b[0mcalculator\u001b[0m\u001b[0;34m(\u001b[0m\u001b[0maddition\u001b[0m\u001b[0;34m)\u001b[0m\u001b[0;34m:\u001b[0m\u001b[0;34m\u001b[0m\u001b[0;34m\u001b[0m\u001b[0m\n\u001b[1;32m     15\u001b[0m   \u001b[0;32mdef\u001b[0m \u001b[0m__init__\u001b[0m\u001b[0;34m(\u001b[0m\u001b[0mself\u001b[0m\u001b[0;34m,\u001b[0m \u001b[0;34m*\u001b[0m\u001b[0margs\u001b[0m\u001b[0;34m,\u001b[0m \u001b[0;34m**\u001b[0m\u001b[0mkwargs\u001b[0m \u001b[0;34m)\u001b[0m\u001b[0;34m:\u001b[0m \u001b[0;31m#constructor에는 그대로\u001b[0m\u001b[0;34m\u001b[0m\u001b[0;34m\u001b[0m\u001b[0m\n\u001b[0;32m---> 16\u001b[0;31m     \u001b[0msuper\u001b[0m\u001b[0;34m(\u001b[0m\u001b[0;34m)\u001b[0m\u001b[0;34m.\u001b[0m\u001b[0m__init__\u001b[0m\u001b[0;34m(\u001b[0m\u001b[0;34m)\u001b[0m \u001b[0;31m# 상속 시 argument 입력\u001b[0m\u001b[0;34m\u001b[0m\u001b[0;34m\u001b[0m\u001b[0m\n\u001b[0m\u001b[1;32m     17\u001b[0m     \u001b[0mself\u001b[0m\u001b[0;34m.\u001b[0m\u001b[0mcal\u001b[0m \u001b[0;34m=\u001b[0m \u001b[0;34m'I am a calculator'\u001b[0m\u001b[0;34m\u001b[0m\u001b[0;34m\u001b[0m\u001b[0m\n\u001b[1;32m     18\u001b[0m \u001b[0;34m\u001b[0m\u001b[0m\n",
            "\u001b[0;31mTypeError\u001b[0m: __init__() missing 2 required positional arguments: 'a' and 'b'"
          ]
        }
      ]
    },
    {
      "cell_type": "markdown",
      "source": [
        "> 깨달았습니다. 상속을 받지 않고 부모 클래스의 애튜리뷰트를 사용하는 메소드를 사용하는 것은 불가능하다는 것을, \n",
        "\n",
        "## 부모님의 것을 사용하려면 상속을 받으라."
      ],
      "metadata": {
        "id": "YqVKh82dKrCk"
      }
    },
    {
      "cell_type": "markdown",
      "source": [
        "## 정리😆😆\n",
        "- 상속이 되든 안되든, constructor에 argument를 정의해주지 않는다면 어떠한 입력도 받을 수 없다. \n",
        "- *args, **kwargs 를 통해 그냥 인자, 키워드 인자 등을 개수 제한 없이 입력받기 가능하다.\n",
        "- 상속을 받을 때 `super.__init()`에 어떠한 인자도 넣지 않고 부모클래스의 (애트리뷰트를 사용하는)메소드를 쓰는 것은 불가능하다.\n",
        "- `super.__init()` 에는 부모 클래스에서 정의하는 변수를 넣어주는 것이다. \n",
        "- 상속받는 인자와 직접 입력받은 인자가 다를 경우, 상속받은 인자가 우선한다.\n",
        "\n",
        "##  Reference\n",
        "https://hwan-hobby.tistory.com/93"
      ],
      "metadata": {
        "id": "D2ADA343JtLK"
      }
    },
    {
      "cell_type": "code",
      "source": [
        ""
      ],
      "metadata": {
        "id": "qVq7lakuKQwX"
      },
      "execution_count": null,
      "outputs": []
    }
  ]
}