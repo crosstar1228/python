{
  "nbformat": 4,
  "nbformat_minor": 0,
  "metadata": {
    "colab": {
      "name": "[python]Mix-in_class.ipynb",
      "provenance": []
    },
    "kernelspec": {
      "name": "python3",
      "display_name": "Python 3"
    },
    "language_info": {
      "name": "python"
    }
  },
  "cells": [
    {
      "cell_type": "markdown",
      "source": [
        "| python 에서는 다중상속이라는 편리한 기능이 있지만 그 때문에 골치아픈 경우가 발생합니다. 그를 피할 수 있는 방법이 MIX-IN 입니다.😊\n",
        "\n",
        "\n",
        "### class 다중상속 시 문제\n",
        "![](https://velog.velcdn.com/images/crosstar1228/post/02b4b24f-3c46-49d1-8bdf-6b4606fef887/image.png)\n",
        "\n",
        "- A,B,C 는 수정 불가능한 패키지\n",
        "- D,E 는 각각 B,C 로부터 상속받음\n",
        "\n",
        "-> 이 경우, code duplicate가 일어남\n",
        "\n",
        "## 해결 방안 : mixin\n",
        "![](https://velog.velcdn.com/images/crosstar1228/post/f54dc318-5353-4aef-85c2-ee6d0b964781/image.png)\n",
        "\n",
        "- 공통된 함수를 M이라는 mixin class 안에 정의함\n",
        "- **자식 클래스가 사용할 METHOD 몇개만** 정의하는 클래스(attribute X)\n",
        "- attribute 없으므로 __init__ method(constructor)도 필요없음\n",
        "\n",
        "- 믹스인 클래스를 작성해두면 여러 클래스에 적용 가능함!([Generic](https://www.quora.com/What-are-generics-in-Python))\n"
      ],
      "metadata": {
        "id": "JXIK0Coj5GgY"
      }
    },
    {
      "cell_type": "markdown",
      "source": [
        "\n",
        "## `ToDictMixin` 클래스 정의"
      ],
      "metadata": {
        "id": "BTIzd0eX5XYV"
      }
    },
    {
      "cell_type": "code",
      "execution_count": 7,
      "metadata": {
        "id": "Gki2onEe2-U8"
      },
      "outputs": [],
      "source": [
        "class ToDictMixin:\n",
        "  def to_dict(self):\n",
        "    return self._traverse_dict(self.__dict__)\n",
        "    \n",
        "  def _traverse_dict(self, instance_dict):\n",
        "    output = {}\n",
        "    for key, value in instance_dict.items():\n",
        "      output[key] = self._traverse(key, value)\n",
        "    return output\n",
        "\n",
        "#  [Bool] = isinstance(확인하고자 하는 데이터 값, 확인하고자 하는 데이터 타입)\n",
        "\n",
        "  def _traverse(self, key, value):\n",
        "    if isinstance(value, ToDictMixin):\n",
        "      return value.to_dict()\n",
        "    if isinstance(value, dict):\n",
        "      return self._traverse_dict(value)\n",
        "    if isinstance(value, list):\n",
        "      return [self._traverse(key, i) for i in value]\n",
        "    elif hasattr(value, '__dict__'):\n",
        "      return self._traverse_dict(value.__dict__)\n",
        "    else:\n",
        "      return value"
      ]
    },
    {
      "cell_type": "markdown",
      "source": [
        "### 이를 이용하여 이진트리-> 딕셔너리 변환!\n",
        "- ToDictMixin 상속하여 `to_dict()` "
      ],
      "metadata": {
        "id": "DKmZUVXw8wKn"
      }
    },
    {
      "cell_type": "code",
      "source": [
        "class BinaryTree(ToDictMixin): # mixin class 상속\n",
        "  def __init__(self, value, left=None, right=None):\n",
        "    self.value = value\n",
        "    self.left = left\n",
        "    self.right = right\n",
        "\n",
        "tree = BinaryTree(10,\n",
        "                  left = BinaryTree(7, right=BinaryTree(9)),\n",
        "                  right = BinaryTree(13, left=BinaryTree(11))\n",
        "                  )\n",
        "print(tree.to_dict())"
      ],
      "metadata": {
        "colab": {
          "base_uri": "https://localhost:8080/"
        },
        "id": "d-2IsSrH8PVw",
        "outputId": "6f933438-7fd2-414f-b0b9-82cdda980241"
      },
      "execution_count": 8,
      "outputs": [
        {
          "output_type": "stream",
          "name": "stdout",
          "text": [
            "{'value': 10, 'left': {'value': 7, 'left': None, 'right': {'value': 9, 'left': None, 'right': None}}, 'right': {'value': 13, 'left': {'value': 11, 'left': None, 'right': None}, 'right': None}}\n"
          ]
        }
      ]
    },
    {
      "cell_type": "markdown",
      "source": [
        "### 믹스인 장점 1 : override로 메소드 변경 가능\n",
        "> 다음은 parent attribute가 추가된 클래스 `BinaryTreeWithParent`"
      ],
      "metadata": {
        "id": "pKLnfFNp_T0-"
      }
    },
    {
      "cell_type": "code",
      "source": [
        "class BinaryTreeWithParent(BinaryTree):\n",
        "  def __init__(self, value, left=None, right=None, parent=None):\n",
        "    super().__init__(value, left=left, right=right) #BinaryTree로부터 값 상속\n",
        "    self.parent = parent\n",
        "\n",
        "  ## overrriding 으로 순환 참조(무한루프)를 막음 -> to_dict() 사용가능\n",
        "  def _traverse(self,key,value):\n",
        "    if isinstance(value, BinaryTreeWithParent) and key=='parent':\n",
        "      return value.value\n",
        "    else:\n",
        "      return super()._traverse(key,value)\n",
        "    \n",
        "  \n"
      ],
      "metadata": {
        "id": "unN4GZAv9jSp"
      },
      "execution_count": 16,
      "outputs": []
    },
    {
      "cell_type": "code",
      "source": [
        "root = BinaryTreeWithParent(10)\n",
        "root.left = BinaryTreeWithParent(7, parent=root)\n",
        "root.left.right = BinaryTreeWithParent(9, parent=root.left)\n",
        "print(root.to_dict())"
      ],
      "metadata": {
        "colab": {
          "base_uri": "https://localhost:8080/"
        },
        "id": "hCSzmH6MBxEp",
        "outputId": "12f5a722-5546-4cda-c2da-05cde798a744"
      },
      "execution_count": 17,
      "outputs": [
        {
          "output_type": "stream",
          "name": "stdout",
          "text": [
            "{'value': 10, 'left': {'value': 7, 'left': None, 'right': {'value': 9, 'left': None, 'right': None, 'parent': 7}, 'parent': 10}, 'right': None, 'parent': None}\n"
          ]
        }
      ]
    },
    {
      "cell_type": "markdown",
      "source": [
        "이에 따라 `BinaryTreeWithParent`를 애트리뷰트로 저장하는 모든 클래스도 자동으로 `ToDictMixin`을 문제없이 사용하게 됨:"
      ],
      "metadata": {
        "id": "4c3uK9Q7D-Ih"
      }
    },
    {
      "cell_type": "code",
      "source": [
        "class NamedSubTree(ToDictMixin):\n",
        "  def __init__(self, name, tree_with_parent):\n",
        "    self.name = name\n",
        "    self.tree_with_parent = tree_with_parent\n",
        "\n",
        "my_tree = NamedSubTree('foobar', root.left.right)\n",
        "print(my_tree.to_dict())"
      ],
      "metadata": {
        "colab": {
          "base_uri": "https://localhost:8080/"
        },
        "id": "sk6ceG4xCHvA",
        "outputId": "bebae467-ed3f-4c7f-9f85-087201453f34"
      },
      "execution_count": 18,
      "outputs": [
        {
          "output_type": "stream",
          "name": "stdout",
          "text": [
            "{'name': 'foobar', 'tree_with_parent': {'value': 9, 'left': None, 'right': None, 'parent': 7}}\n"
          ]
        }
      ]
    },
    {
      "cell_type": "markdown",
      "source": [
        "## 믹스인 합성도 가능!"
      ],
      "metadata": {
        "id": "rJ3Jz3WLFC0g"
      }
    },
    {
      "cell_type": "code",
      "source": [
        ""
      ],
      "metadata": {
        "id": "KeCzF4f8E62i"
      },
      "execution_count": null,
      "outputs": []
    },
    {
      "cell_type": "markdown",
      "source": [
        "## Reference\n",
        "- https://youtu.be/zNPaqZUTzs0\n",
        "- http://pythonstudy.xyz/python/article/510-%EC%A7%81%EB%A0%AC%ED%99%94%EC%99%80-%EC%97%AD%EC%A7%81%EB%A0%AC%ED%99%94"
      ],
      "metadata": {
        "id": "k5al42sfGr5y"
      }
    },
    {
      "cell_type": "code",
      "source": [
        ""
      ],
      "metadata": {
        "id": "8Dy31M_oGsso"
      },
      "execution_count": null,
      "outputs": []
    }
  ]
}