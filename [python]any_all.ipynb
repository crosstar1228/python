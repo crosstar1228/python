{
  "nbformat": 4,
  "nbformat_minor": 0,
  "metadata": {
    "colab": {
      "name": "[python]any, all.ipynb",
      "provenance": []
    },
    "kernelspec": {
      "name": "python3",
      "display_name": "Python 3"
    },
    "language_info": {
      "name": "python"
    }
  },
  "cells": [
    {
      "cell_type": "markdown",
      "metadata": {
        "id": "8y4CT_Fm11qh"
      },
      "source": [
        "\n",
        "#any, all  : iterable한 객체와 특정 값과 비교할 때 유용\n",
        "- max 함수는 빈 리스트를 인자로 받을 경우 런타임 에러가 남. 이것을 방지하기 위함\n",
        "\n",
        "- ex) 리스트 값 중 하나라도 5보다 크다면?\n",
        "\n",
        "\n",
        "## any() : OR gate\n",
        "- 하나라도 True 라면 True 를 리턴\n",
        "- list comprehension 형태로 사용 가능\n"
      ]
    },
    {
      "cell_type": "code",
      "metadata": {
        "colab": {
          "base_uri": "https://localhost:8080/"
        },
        "id": "E9hY5cl0sGyI",
        "outputId": "98cc62a5-1f7c-4fc8-c640-846f219d7798"
      },
      "source": [
        "a= [1,2,3,4,5]\n",
        "any(0 > i for i in a)"
      ],
      "execution_count": 18,
      "outputs": [
        {
          "output_type": "execute_result",
          "data": {
            "text/plain": [
              "False"
            ]
          },
          "metadata": {},
          "execution_count": 18
        }
      ]
    },
    {
      "cell_type": "code",
      "metadata": {
        "colab": {
          "base_uri": "https://localhost:8080/"
        },
        "id": "NHfUzedc3OZ1",
        "outputId": "fd1eb17c-5ad3-40e1-8fa1-da6717b649d9"
      },
      "source": [
        "any(2 > i for i in a)"
      ],
      "execution_count": 19,
      "outputs": [
        {
          "output_type": "execute_result",
          "data": {
            "text/plain": [
              "True"
            ]
          },
          "metadata": {},
          "execution_count": 19
        }
      ]
    },
    {
      "cell_type": "code",
      "metadata": {
        "colab": {
          "base_uri": "https://localhost:8080/"
        },
        "id": "YL8fMpCC30n6",
        "outputId": "096bac2a-a404-4c60-dde2-ca29a996a5ca"
      },
      "source": [
        "any(6 > i for i in a)"
      ],
      "execution_count": 20,
      "outputs": [
        {
          "output_type": "execute_result",
          "data": {
            "text/plain": [
              "True"
            ]
          },
          "metadata": {},
          "execution_count": 20
        }
      ]
    },
    {
      "cell_type": "markdown",
      "metadata": {
        "id": "Xk87vrGs34y3"
      },
      "source": [
        "## all()\n",
        "- 모든 값이 true여야 true를 리턴\n",
        "- list comprehension 형태로 사용 가능"
      ]
    },
    {
      "cell_type": "code",
      "metadata": {
        "colab": {
          "base_uri": "https://localhost:8080/"
        },
        "id": "9f7DHSuw1Zon",
        "outputId": "dd4141c0-5e30-4c8c-d0ff-e486a566fcd9"
      },
      "source": [
        "all(0>i for i in a)"
      ],
      "execution_count": 21,
      "outputs": [
        {
          "output_type": "execute_result",
          "data": {
            "text/plain": [
              "False"
            ]
          },
          "metadata": {},
          "execution_count": 21
        }
      ]
    },
    {
      "cell_type": "code",
      "metadata": {
        "colab": {
          "base_uri": "https://localhost:8080/"
        },
        "id": "J7QHhQCp3Jup",
        "outputId": "01d666fe-d289-46d2-8c71-7916784e5a6c"
      },
      "source": [
        "all(2>i for i in a)"
      ],
      "execution_count": 22,
      "outputs": [
        {
          "output_type": "execute_result",
          "data": {
            "text/plain": [
              "False"
            ]
          },
          "metadata": {},
          "execution_count": 22
        }
      ]
    },
    {
      "cell_type": "code",
      "metadata": {
        "colab": {
          "base_uri": "https://localhost:8080/"
        },
        "id": "vbdop7aa4Ifx",
        "outputId": "66d1ca9a-4bd5-4f34-9fae-4019cf4f6b83"
      },
      "source": [
        "all(6>i for i in a)"
      ],
      "execution_count": 23,
      "outputs": [
        {
          "output_type": "execute_result",
          "data": {
            "text/plain": [
              "True"
            ]
          },
          "metadata": {},
          "execution_count": 23
        }
      ]
    },
    {
      "cell_type": "markdown",
      "metadata": {
        "id": "lh-oYk4D4Xdv"
      },
      "source": [
        "## 프로그래머스 예제 : [프린터](https://programmers.co.kr/learn/courses/30/lessons/42587)\n",
        "\n",
        "- any를 쓰면 매우 간결한 코드로 변신함. 아래 두 코드를 비교해 보자.\n",
        "\n"
      ]
    },
    {
      "cell_type": "markdown",
      "metadata": {
        "id": "Qpxr2VhP4y14"
      },
      "source": [
        "## any를 쓰지 않은 코드 : max() 또는 min() 함수를 쓸 때, 빈 리스트일 때 에러가 나므로 예외처리를 해주었다."
      ]
    },
    {
      "cell_type": "code",
      "metadata": {
        "id": "IHywi0cc4ugU"
      },
      "source": [
        "from collections import deque\n",
        "def solution(priorities, location):\n",
        "    priorities=[(i,pri) for i, pri in enumerate(priorities)]\n",
        "    # print(priorities)\n",
        "    que=deque(priorities)\n",
        "    order = []\n",
        "    while que:\n",
        "        \n",
        "        pri = que.popleft()  \n",
        "        # print(pri)\n",
        "        if len(que)!=0:                                 #길이기 0이 아닐때 max 함수 쓴다\n",
        "            if pri[1] < max(map(lambda x: x[1],que)):\n",
        "                que.append(pri)\n",
        "\n",
        "            elif pri[1]>= max(map(lambda x: x[1],que)):\n",
        "                order.append(pri)\n",
        "                if pri[0]==location:\n",
        "                    return order.index(pri)+1\n",
        "        else:                                           #예외처리.max 함수 없음\n",
        "            order.append(pri)\n",
        "            if pri[0]==location:\n",
        "                return order.index(pri)+1"
      ],
      "execution_count": null,
      "outputs": []
    },
    {
      "cell_type": "markdown",
      "metadata": {
        "id": "gqjoGmZK5E5p"
      },
      "source": [
        "## any를 쓴 코드 : 예외처리 해 줄 필요 없음"
      ]
    },
    {
      "cell_type": "code",
      "metadata": {
        "id": "OB3zJ8Yd4ZiM"
      },
      "source": [
        "def solution(priorities, location):\n",
        "    queue =  [(i,p) for i,p in enumerate(priorities)]\n",
        "    answer = 0\n",
        "    while True:\n",
        "        cur = queue.pop(0)\n",
        "        if any(cur[1] < q[1] for q in queue):\n",
        "            queue.append(cur)\n",
        "        else:\n",
        "            answer += 1\n",
        "            if cur[0] == location:\n",
        "                return answer"
      ],
      "execution_count": null,
      "outputs": []
    }
  ]
}