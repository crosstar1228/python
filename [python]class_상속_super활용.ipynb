{
  "nbformat": 4,
  "nbformat_minor": 0,
  "metadata": {
    "colab": {
      "name": "[python]class_super2.ipynb",
      "provenance": []
    },
    "kernelspec": {
      "name": "python3",
      "display_name": "Python 3"
    },
    "language_info": {
      "name": "python"
    }
  },
  "cells": [
    {
      "cell_type": "markdown",
      "source": [
        "## python class 간 상속 실습\n",
        "1. super 없이 상속하면 부모클래스의 method 활용 가능\n",
        "2. super 와 함께 상속하면 부모 클래스 자동 호출\n",
        "3. super(<클래스>,self)\\_\\_init__() 으로 지칭하면 <클래스>의 부모클래스만 지정해서 상속받음\n"
      ],
      "metadata": {
        "id": "NJ-JlYdLxv0P"
      }
    },
    {
      "cell_type": "markdown",
      "source": [
        "## 1. super 없이 상속하면 부모클래스의 method 활용 가능"
      ],
      "metadata": {
        "id": "9eJOwW5u1WUG"
      }
    },
    {
      "cell_type": "code",
      "execution_count": 1,
      "metadata": {
        "id": "vGqHnfHcxZ6c"
      },
      "outputs": [],
      "source": [
        "class A(object):\n",
        "  def __init__(self):\n",
        "    print(\"A\")\n",
        "\n",
        "  def hello(self):\n",
        "    print(\"hello\")"
      ]
    },
    {
      "cell_type": "code",
      "source": [
        "class B(A):\n",
        "    def __init__(self):\n",
        "        print(\"B\")\n",
        "        \n",
        "    def bye(self):\n",
        "        print(\"bye\")"
      ],
      "metadata": {
        "id": "x2m_qDNHxpaG"
      },
      "execution_count": 2,
      "outputs": []
    },
    {
      "cell_type": "code",
      "source": [
        "b=B()"
      ],
      "metadata": {
        "colab": {
          "base_uri": "https://localhost:8080/"
        },
        "id": "d9UZb9sJ0_ML",
        "outputId": "80f93807-4d89-4ce6-c1d4-542959e728a0"
      },
      "execution_count": 3,
      "outputs": [
        {
          "output_type": "stream",
          "name": "stdout",
          "text": [
            "B\n"
          ]
        }
      ]
    },
    {
      "cell_type": "code",
      "source": [
        "b.hello() # 부모클래스 메소드 활용"
      ],
      "metadata": {
        "colab": {
          "base_uri": "https://localhost:8080/"
        },
        "id": "l-UVyV2N1LHt",
        "outputId": "0bea23c5-5651-4e35-f2d3-8959fd00509f"
      },
      "execution_count": 4,
      "outputs": [
        {
          "output_type": "stream",
          "name": "stdout",
          "text": [
            "hello\n"
          ]
        }
      ]
    },
    {
      "cell_type": "markdown",
      "source": [
        "## 2. Super 명령어는 이런 상속 관계에서 상속의 대상인 부모 클래스를 호출하는 함수\n",
        "super()의 인자로는 두 개가 전달되며, **하위클래스의 이름**(B)과 **하위클래스의 객체(b)**가 필요"
      ],
      "metadata": {
        "id": "UKH_G7sd1aCV"
      }
    },
    {
      "cell_type": "code",
      "source": [
        "super(B, b).__init__() # self는 인스턴스 그 자체를 의미하므로 따로 빼어서도 사용 가능"
      ],
      "metadata": {
        "colab": {
          "base_uri": "https://localhost:8080/"
        },
        "id": "49hOXRb51Nn1",
        "outputId": "d9bb698f-3935-4237-f832-02acc44b9c78"
      },
      "execution_count": 5,
      "outputs": [
        {
          "output_type": "stream",
          "name": "stdout",
          "text": [
            "A\n"
          ]
        }
      ]
    },
    {
      "cell_type": "code",
      "source": [
        "super(B, self).__init__() #class 밖에서는 self가 지칭하는 것이 없음."
      ],
      "metadata": {
        "colab": {
          "base_uri": "https://localhost:8080/",
          "height": 174
        },
        "id": "fAMvZJxr2PXW",
        "outputId": "24c9738a-b2de-4f79-9b47-90f308dbf382"
      },
      "execution_count": 6,
      "outputs": [
        {
          "output_type": "error",
          "ename": "NameError",
          "evalue": "ignored",
          "traceback": [
            "\u001b[0;31m---------------------------------------------------------------------------\u001b[0m",
            "\u001b[0;31mNameError\u001b[0m                                 Traceback (most recent call last)",
            "\u001b[0;32m<ipython-input-6-29b7b6ed83ea>\u001b[0m in \u001b[0;36m<module>\u001b[0;34m()\u001b[0m\n\u001b[0;32m----> 1\u001b[0;31m \u001b[0msuper\u001b[0m\u001b[0;34m(\u001b[0m\u001b[0mB\u001b[0m\u001b[0;34m,\u001b[0m \u001b[0mself\u001b[0m\u001b[0;34m)\u001b[0m\u001b[0;34m.\u001b[0m\u001b[0m__init__\u001b[0m\u001b[0;34m(\u001b[0m\u001b[0;34m)\u001b[0m\u001b[0;34m\u001b[0m\u001b[0;34m\u001b[0m\u001b[0m\n\u001b[0m",
            "\u001b[0;31mNameError\u001b[0m: name 'self' is not defined"
          ]
        }
      ]
    },
    {
      "cell_type": "code",
      "source": [
        "class B(A):\n",
        "    def __init__(self):\n",
        "        super().__init__() # 따로 인자전달 안해도 부모클래스 호출해 줌.\n",
        "        print(\"B\")\n",
        "        \n",
        "    def hi(self):\n",
        "        print(\"hi\")"
      ],
      "metadata": {
        "id": "AEEnd-0g11yD"
      },
      "execution_count": 7,
      "outputs": []
    },
    {
      "cell_type": "code",
      "source": [
        "b = B()"
      ],
      "metadata": {
        "colab": {
          "base_uri": "https://localhost:8080/"
        },
        "id": "db1I6o3C3BPd",
        "outputId": "46bf2e7b-65f2-4f82-f3bd-ada1ac7177d1"
      },
      "execution_count": 8,
      "outputs": [
        {
          "output_type": "stream",
          "name": "stdout",
          "text": [
            "A\n",
            "B\n"
          ]
        }
      ]
    },
    {
      "cell_type": "code",
      "source": [
        "class B(A):\n",
        "    def __init__(self):\n",
        "        super(B, self).__init__() # 명시: B의 부모클래스 호출\n",
        "        print(\"B\")\n",
        "        \n",
        "    def hi(self):\n",
        "        print(\"hi\")"
      ],
      "metadata": {
        "id": "MCTnqh1y3EU9"
      },
      "execution_count": 9,
      "outputs": []
    },
    {
      "cell_type": "markdown",
      "source": [
        "## super(`class명 object명 명시` 활용)"
      ],
      "metadata": {
        "id": "LjOF-JoO3VSF"
      }
    },
    {
      "cell_type": "code",
      "source": [
        "class C(B):\n",
        "    def __init__(self):\n",
        "        super(C, self).__init__() # 명시 C의 부모 클래스 (B) 호출\n",
        "        print(\"C\")"
      ],
      "metadata": {
        "id": "NLUFSOa63NOG"
      },
      "execution_count": 10,
      "outputs": []
    },
    {
      "cell_type": "code",
      "source": [
        "c = C() # 연쇄적으로 A, B, C 모두 호출"
      ],
      "metadata": {
        "colab": {
          "base_uri": "https://localhost:8080/"
        },
        "id": "0TgUOwoU3yVL",
        "outputId": "b558858f-5bc0-4938-c945-60d3217861d8"
      },
      "execution_count": 11,
      "outputs": [
        {
          "output_type": "stream",
          "name": "stdout",
          "text": [
            "A\n",
            "B\n",
            "C\n"
          ]
        }
      ]
    },
    {
      "cell_type": "code",
      "source": [
        "class C(B):\n",
        "    def __init__(self):\n",
        "        super(B, self).__init__() # B의 부모 클래스 (A) 호출, B는 호출이 안됨\n",
        "        print(\"C\")"
      ],
      "metadata": {
        "id": "Apv3xWKQ30Mm"
      },
      "execution_count": 13,
      "outputs": []
    },
    {
      "cell_type": "code",
      "source": [
        "c = C() # B는 건너뛰고 A를 호출함"
      ],
      "metadata": {
        "colab": {
          "base_uri": "https://localhost:8080/"
        },
        "id": "3r3bXxgN36uF",
        "outputId": "24430156-930d-4b3c-adcd-96d164118f4f"
      },
      "execution_count": 14,
      "outputs": [
        {
          "output_type": "stream",
          "name": "stdout",
          "text": [
            "A\n",
            "C\n"
          ]
        }
      ]
    },
    {
      "cell_type": "markdown",
      "source": [
        "## Reference\n",
        "- https://harry24k.github.io/super/"
      ],
      "metadata": {
        "id": "ioN35yDp4A9l"
      }
    }
  ]
}