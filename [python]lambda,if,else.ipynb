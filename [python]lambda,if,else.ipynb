{
  "nbformat": 4,
  "nbformat_minor": 0,
  "metadata": {
    "colab": {
      "name": "[python]lambda,if,else.ipynb",
      "provenance": []
    },
    "kernelspec": {
      "name": "python3",
      "display_name": "Python 3"
    },
    "language_info": {
      "name": "python"
    }
  },
  "cells": [
    {
      "cell_type": "markdown",
      "metadata": {
        "id": "v2oDsK6oipqh"
      },
      "source": [
        "lambda에서 if else문 쓰기"
      ]
    },
    {
      "cell_type": "code",
      "metadata": {
        "colab": {
          "base_uri": "https://localhost:8080/"
        },
        "id": "ujuft-5vdIRZ",
        "outputId": "39c0c434-faed-468f-99d8-f936a25ee90f"
      },
      "source": [
        "import math\n",
        "# 짝수는 제곱, 홀수는 제곱근을 리턴\n",
        "lis1 = [1,2,3,4,5,6]\n",
        "list(map(lambda x: x**2 if x%2==0 else math.sqrt(x) ,lis1))"
      ],
      "execution_count": 2,
      "outputs": [
        {
          "output_type": "execute_result",
          "data": {
            "text/plain": [
              "[1.0, 4, 1.7320508075688772, 16, 2.23606797749979, 36]"
            ]
          },
          "metadata": {},
          "execution_count": 2
        }
      ]
    },
    {
      "cell_type": "markdown",
      "metadata": {
        "id": "V8sPJ81BkDgj"
      },
      "source": [
        "lambda에서 elif 문 쓰기 :\n",
        "\n",
        "▶ x : lambda 결과1 if 조건1 else (결과2 if 조건 2 else 결과3)"
      ]
    },
    {
      "cell_type": "code",
      "metadata": {
        "colab": {
          "base_uri": "https://localhost:8080/"
        },
        "id": "nfN1Oga7jKHI",
        "outputId": "c6aad0ce-eb6e-4c67-f83c-7643f834b0ee"
      },
      "source": [
        "# 짝수는 제곱, 5의 배수는 세제곱,  홀수는 제곱근리턴\n",
        "list(map(lambda x : x**2 if x%2==0 else(x**3 if x%5==0 else math.sqrt(x)),lis1))"
      ],
      "execution_count": 3,
      "outputs": [
        {
          "output_type": "execute_result",
          "data": {
            "text/plain": [
              "[1.0, 4, 1.7320508075688772, 16, 125, 36]"
            ]
          },
          "metadata": {},
          "execution_count": 3
        }
      ]
    }
  ]
}