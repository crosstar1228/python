{
 "cells": [
  {
   "cell_type": "markdown",
   "id": "3041fc16",
   "metadata": {},
   "source": [
    "## 목적\n",
    "- Graph 자료구조로부터, node 별로 이어진 다른 node들을 dictionary 형태로 변형하고 싶다. "
   ]
  },
  {
   "cell_type": "code",
   "execution_count": 1,
   "id": "5a7b554e",
   "metadata": {},
   "outputs": [],
   "source": [
    "edge = [[3, 6], [4, 3], [3, 2], [1, 3], [1, 2], [2, 4], [5, 2]]\n",
    "\n",
    "# list(map(lambda x : x[0]+x[1],edge))"
   ]
  },
  {
   "cell_type": "markdown",
   "id": "74ace4af",
   "metadata": {},
   "source": [
    "1차시도 : key, value로 생각하고 싶었지만 안됨."
   ]
  },
  {
   "cell_type": "code",
   "execution_count": 2,
   "id": "1b53b4dd",
   "metadata": {},
   "outputs": [
    {
     "data": {
      "text/plain": [
       "{3: [2], 4: [3], 1: [2], 2: [4], 5: [2]}"
      ]
     },
     "execution_count": 2,
     "metadata": {},
     "output_type": "execute_result"
    }
   ],
   "source": [
    "{key:[value] for key,value in edge}"
   ]
  },
  {
   "cell_type": "markdown",
   "id": "618fddd6",
   "metadata": {},
   "source": [
    "2차시도: for문으로 해봤는데, 원하는 결과가 안나옴."
   ]
  },
  {
   "cell_type": "code",
   "execution_count": 3,
   "id": "940f1351",
   "metadata": {},
   "outputs": [
    {
     "name": "stdout",
     "output_type": "stream",
     "text": [
      "{5: [2]}\n"
     ]
    }
   ],
   "source": [
    "for key, value in edge:\n",
    "    dic={}\n",
    "    if not key in dic:\n",
    "        dic[key]=[value]\n",
    "    else:\n",
    "        dic[key]+=[value]\n",
    "print(dic)"
   ]
  },
  {
   "cell_type": "markdown",
   "id": "821e74a6",
   "metadata": {},
   "source": [
    "## defaultdict 활용\n",
    "- dictionary value의 default type 설정 : int, list \n",
    "-> key값이 있을때 없을때 if문으로 분류할 필요 없이 간단히 코딩 가능\n",
    "\n",
    "- 추가적으로 sorted로 정렬"
   ]
  },
  {
   "cell_type": "code",
   "execution_count": 4,
   "id": "f7441fe6",
   "metadata": {},
   "outputs": [
    {
     "name": "stdout",
     "output_type": "stream",
     "text": [
      "{1: [3, 2], 2: [3, 1, 4, 5], 3: [6, 4, 2, 1], 4: [3, 2], 5: [2], 6: [3]}\n"
     ]
    }
   ],
   "source": [
    "from collections import defaultdict\n",
    "\n",
    "dic=defaultdict(list)\n",
    "for key, value in edge:\n",
    "    dic[key]+=[value]\n",
    "    dic[value]+=[key]\n",
    "print(dict(sorted(dic.items())))"
   ]
  },
  {
   "cell_type": "code",
   "execution_count": null,
   "id": "1d6d7661",
   "metadata": {},
   "outputs": [],
   "source": []
  }
 ],
 "metadata": {
  "kernelspec": {
   "display_name": "Python 3",
   "language": "python",
   "name": "python3"
  },
  "language_info": {
   "codemirror_mode": {
    "name": "ipython",
    "version": 3
   },
   "file_extension": ".py",
   "mimetype": "text/x-python",
   "name": "python",
   "nbconvert_exporter": "python",
   "pygments_lexer": "ipython3",
   "version": "3.8.8"
  }
 },
 "nbformat": 4,
 "nbformat_minor": 5
}
